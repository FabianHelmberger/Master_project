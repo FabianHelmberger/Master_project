{
 "cells": [
  {
   "cell_type": "code",
   "execution_count": 1,
   "metadata": {},
   "outputs": [],
   "source": [
    "import numpy as np\n",
    "import matplotlib.pyplot as plt\n",
    "\n",
    "# Set environment variables\n",
    "import os\n",
    "\n",
    "os.environ[\"SCAL_TYPE\"] = \"complex\"\n",
    "os.environ[\"PRECISION\"] = \"double\"\n",
    "os.environ[\"MY_NUMBA_TARGET\"] = \"numba\"\n",
    " \n",
    "# Add cle_fun to PYTHON_PATH\n",
    "import sys\n",
    "sys.path.append(\"../../clonscal\")"
   ]
  },
  {
   "cell_type": "code",
   "execution_count": 2,
   "metadata": {},
   "outputs": [
    {
     "name": "stdout",
     "output_type": "stream",
     "text": [
      "Using Numba\n",
      "Using double precision\n",
      "Using C^1\n"
     ]
    },
    {
     "name": "stderr",
     "output_type": "stream",
     "text": [
      "/home/fhelmberger/miniconda3/envs/cle_cuda/lib/python3.10/site-packages/llvmlite/llvmpy/__init__.py:3: UserWarning: The module `llvmlite.llvmpy` is deprecated and will be removed in the future.\n",
      "  warnings.warn(\n",
      "/home/fhelmberger/miniconda3/envs/cle_cuda/lib/python3.10/site-packages/llvmlite/llvmpy/core.py:8: UserWarning: The module `llvmlite.llvmpy.core` is deprecated and will be removed in the future. Equivalent functionality is provided by `llvmlite.ir`.\n",
      "  warnings.warn(\n",
      "/home/fhelmberger/miniconda3/envs/cle_cuda/lib/python3.10/site-packages/llvmlite/llvmpy/passes.py:17: UserWarning: The module `llvmlite.llvmpy.passes` is deprecated and will be removed in the future. If you are using this code, it should be inlined into your own project.\n",
      "  warnings.warn(\n"
     ]
    }
   ],
   "source": [
    "from src.obs_kernels import n_moment_kernel\n",
    "from tqdm import tqdm\n",
    "from simulation.cl_simulation import ComplexLangevinSimulation\n",
    "from simulation.gpu_handler import GPU_handler\n",
    "from src.numba_target import use_cuda\n",
    "\n",
    "def run_simulation(config, n_steps = int(1e4)):\n",
    "    # define simulation parameters\n",
    "\n",
    "    sim = ComplexLangevinSimulation(config)\n",
    "    if use_cuda: \n",
    "        gpu_handler = GPU_handler(sim)\n",
    "        gpu_handler.to_device()\n",
    "\n",
    "    # register observable\n",
    "    sim.register_observable('1_moment', obs_kernel=n_moment_kernel, const_params={'order': 1}, langevin_history=False)\n",
    "\n",
    "    # start the loop \n",
    "    for _ in tqdm(range(n_steps)):\n",
    "        sim.step()\n",
    "        sim.compute('1_moment')\n",
    "\n",
    "    sim.finish()\n",
    "    if use_cuda: gpu_handler.to_host()\n",
    "\n",
    "    return sim"
   ]
  },
  {
   "cell_type": "code",
   "execution_count": 6,
   "metadata": {},
   "outputs": [
    {
     "data": {
      "text/plain": [
       "5000"
      ]
     },
     "execution_count": 6,
     "metadata": {},
     "output_type": "execute_result"
    }
   ],
   "source": [
    "sim.result['1_moment'].size"
   ]
  },
  {
   "cell_type": "code",
   "execution_count": 8,
   "metadata": {},
   "outputs": [
    {
     "name": "stderr",
     "output_type": "stream",
     "text": [
      "100%|██████████| 50000/50000 [00:03<00:00, 14066.66it/s]\n"
     ]
    },
    {
     "data": {
      "image/png": "[encoded data removed]",
      "text/plain": [
       "<Figure size 1200x1200 with 16 Axes>"
      ]
     },
     "metadata": {},
     "output_type": "display_data"
    }
   ],
   "source": [
    "import numpy as np\n",
    "import matplotlib.pyplot as plt\n",
    "from simulation.config import Config\n",
    "plt.rcParams['text.usetex'] = True\n",
    "\n",
    "ineraction = 12\n",
    "sigma_abs = 4\n",
    "num = 1\n",
    "angle_start = 0\n",
    "angle_end = np.pi*2\n",
    "\n",
    "fig, axes = plt.subplots(4, 4, figsize=(12, 12), sharex=True, sharey=True)\n",
    "axes = axes.flatten()\n",
    "fig.subplots_adjust(hspace=0.5, wspace=0.5)  # Adjust spacing between subplots\n",
    "\n",
    "\n",
    "for idx in np.arange(num):\n",
    "    angle = angle_start + (angle_end - angle_start) * idx / num\n",
    "    mass = sigma_abs * (np.cos(angle) + 1j*np.sin(angle))\n",
    "    label = rf\"$|\\sigma|={{{sigma_abs}}}$ \\quad arg$(\\sigma) = \\frac{{{idx}}}{{{num}}} 2\\pi$\"\n",
    "\n",
    "    config = Config(dims = [1], trajs = int(5e2), mass_real = mass, interaction=12, dt = 5e-2)\n",
    "    sim = run_simulation(config, n_steps=int(5e4))\n",
    "\n",
    "    data = sim.trackers['1_moment'].history.flatten()\n",
    "    magnitudes = np.abs(data)\n",
    "    data = data[magnitudes <= 20]   \n",
    "    art_dp = 10+10j\n",
    "    data = np.append([art_dp, -art_dp], data)\n",
    "    real_parts, imag_parts = data.real, data.imag\n",
    "    bins = 500\n",
    "    heatmap, xedges, yedges = np.histogram2d(real_parts, imag_parts, bins=bins)\n",
    "\n",
    "    ax = axes[idx]\n",
    "    # Plot the heatmap\n",
    "    ax.imshow(\n",
    "        np.log10(heatmap+1).T,\n",
    "        extent=[xedges[0], xedges[-1], yedges[0], yedges[-1]],\n",
    "        origin='lower',\n",
    "        cmap='hot',\n",
    "        aspect='auto',\n",
    "    )\n",
    "\n",
    "    ax.set_title(label)\n",
    "    ax.set_xlim(-6, 6)\n",
    "    ax.set_ylim(-6, 6)\n",
    "    del sim\n",
    "plt.show()"
   ]
  }
 ],
 "metadata": {
  "kernelspec": {
   "display_name": "cle_cuda",
   "language": "python",
   "name": "python3"
  },
  "language_info": {
   "codemirror_mode": {
    "name": "ipython",
    "version": 3
   },
   "file_extension": ".py",
   "mimetype": "text/x-python",
   "name": "python",
   "nbconvert_exporter": "python",
   "pygments_lexer": "ipython3",
   "version": "3.10.12"
  }
 },
 "nbformat": 4,
 "nbformat_minor": 2
}
