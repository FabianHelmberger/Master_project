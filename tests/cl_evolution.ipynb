{
 "cells": [
  {
   "cell_type": "code",
   "execution_count": 1,
   "metadata": {},
   "outputs": [],
   "source": [
    "import numpy as np\n",
    "import matplotlib.pyplot as plt\n",
    "\n",
    "# Set environment variables\n",
    "import os\n",
    "\n",
    "os.environ[\"SCAL_TYPE\"] = \"complex\"\n",
    "os.environ[\"PRECISION\"] = \"double\"\n",
    "os.environ[\"MY_NUMBA_TARGET\"] = \"numba\"\n",
    " \n",
    "# Add cle_fun to PYTHON_PATH\n",
    "import sys\n",
    "sys.path.append(\"../../clonscal\")"
   ]
  },
  {
   "cell_type": "code",
   "execution_count": 2,
   "metadata": {},
   "outputs": [
    {
     "name": "stdout",
     "output_type": "stream",
     "text": [
      "Using double precision\n",
      "Using C^1\n",
      "Using Numba\n"
     ]
    }
   ],
   "source": [
    "from simulation.config import Config\n",
    "from simulation.cl_simulation import ComplexLangevinSimulation\n",
    "\n",
    "sim = ComplexLangevinSimulation(Config(dt = 1e-2, dims = [10], trajs= 2, ada_step = True))"
   ]
  },
  {
   "cell_type": "code",
   "execution_count": 3,
   "metadata": {},
   "outputs": [
    {
     "name": "stdout",
     "output_type": "stream",
     "text": [
      "[0.+0.j 0.+0.j 0.+0.j 0.+0.j 0.+0.j 0.+0.j 0.+0.j 0.+0.j 0.+0.j 0.+0.j\n",
      " 0.+0.j 0.+0.j 0.+0.j 0.+0.j 0.+0.j 0.+0.j 0.+0.j 0.+0.j 0.+0.j 0.+0.j]\n"
     ]
    },
    {
     "name": "stderr",
     "output_type": "stream",
     "text": [
      "OMP: Info #276: omp_set_nested routine deprecated, please use omp_set_max_active_levels instead.\n"
     ]
    },
    {
     "name": "stdout",
     "output_type": "stream",
     "text": [
      "[ 0.08877559+0.j -0.28084474+0.j  0.03062304+0.j -0.13449964+0.j\n",
      " -0.09016181+0.j  0.11145489+0.j  0.10373989+0.j -0.02045353+0.j\n",
      " -0.07884854+0.j -0.03048906+0.j  0.008566  +0.j  0.09183606+0.j\n",
      " -0.50295292+0.j  0.13442879+0.j  0.13587167+0.j  0.16913159+0.j\n",
      " -0.1656018 +0.j  0.10407951+0.j  0.04980818+0.j -0.0261526 +0.j]\n"
     ]
    }
   ],
   "source": [
    "print(sim.phi0)\n",
    "sim.step()\n",
    "print(sim.phi0)"
   ]
  },
  {
   "cell_type": "code",
   "execution_count": 6,
   "metadata": {},
   "outputs": [
    {
     "data": {
      "text/plain": [
       "array([0.96196111, 0.98079413])"
      ]
     },
     "execution_count": 6,
     "metadata": {},
     "output_type": "execute_result"
    }
   ],
   "source": [
    "for _ in range(1000):\n",
    "    sim.step()\n",
    "    sim.set_apative_stepsize()\n",
    "sim.ada"
   ]
  }
 ],
 "metadata": {
  "kernelspec": {
   "display_name": "cle",
   "language": "python",
   "name": "python3"
  },
  "language_info": {
   "codemirror_mode": {
    "name": "ipython",
    "version": 3
   },
   "file_extension": ".py",
   "mimetype": "text/x-python",
   "name": "python",
   "nbconvert_exporter": "python",
   "pygments_lexer": "ipython3",
   "version": "3.10.15"
  }
 },
 "nbformat": 4,
 "nbformat_minor": 2
}
