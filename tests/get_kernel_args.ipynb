{
 "cells": [
  {
   "cell_type": "code",
   "execution_count": 1,
   "metadata": {},
   "outputs": [],
   "source": [
    "import numpy as np\n",
    "import matplotlib.pyplot as plt\n",
    "\n",
    "# Set environment variables\n",
    "import os\n",
    "\n",
    "os.environ[\"SCAL_TYPE\"] = \"real\"\n",
    "os.environ[\"PRECISION\"] = \"single\"\n",
    "os.environ[\"MY_NUMBA_TARGET\"] = \"numba\"\n",
    "\n",
    "# Add cle_fun to PYTHON_PATH\n",
    "import sys\n",
    "sys.path.append(\"../../clonscal\")"
   ]
  },
  {
   "cell_type": "code",
   "execution_count": 2,
   "metadata": {},
   "outputs": [
    {
     "name": "stdout",
     "output_type": "stream",
     "text": [
      "Using single precision\n",
      "Using R^1\n",
      "Using Numba\n"
     ]
    }
   ],
   "source": [
    "from simulation.cl_simulation import ComplexLangevinSimulation\n",
    "from simulation.config import Config\n",
    "\n",
    "config = Config(dt = 0.01, dims = [100, 100])\n",
    "sim = ComplexLangevinSimulation(config)"
   ]
  },
  {
   "cell_type": "code",
   "execution_count": 4,
   "metadata": {},
   "outputs": [],
   "source": [
    "import inspect\n",
    "\n",
    "def get_kernel_args(kernel_func, sim: ComplexLangevinSimulation):\n",
    "    kernel_params = inspect.signature(kernel_func).parameters.keys()\n",
    "    assert 'idx' in kernel_params, \"Pass a kernel function with 'idx' argument\"\n",
    "    \n",
    "    kernel_vals = {\n",
    "    (key if key != \"idx\" else \"n_cells\"): sim.__dict__[key if key != \"idx\" else \"n_cells\"]\n",
    "    for key in kernel_params\n",
    "    }\n",
    "    return kernel_vals"
   ]
  },
  {
   "cell_type": "code",
   "execution_count": 12,
   "metadata": {},
   "outputs": [],
   "source": [
    "import inspect\n",
    "from src.utils import mexican_hat_kernel_real, update_noise_kernel\n",
    "\n",
    "from src.numba_target import my_parallel_loop\n",
    "kernel_vals = get_kernel_args(update_noise_kernel, sim).values()\n",
    "my_parallel_loop(update_noise_kernel, *kernel_vals)"
   ]
  }
 ],
 "metadata": {
  "kernelspec": {
   "display_name": "cle",
   "language": "python",
   "name": "python3"
  },
  "language_info": {
   "codemirror_mode": {
    "name": "ipython",
    "version": 3
   },
   "file_extension": ".py",
   "mimetype": "text/x-python",
   "name": "python",
   "nbconvert_exporter": "python",
   "pygments_lexer": "ipython3",
   "version": "3.10.15"
  }
 },
 "nbformat": 4,
 "nbformat_minor": 2
}
