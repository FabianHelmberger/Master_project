{
 "cells": [
  {
   "cell_type": "code",
   "execution_count": 6,
   "metadata": {},
   "outputs": [],
   "source": [
    "import numpy as np\n",
    "import matplotlib.pyplot as plt\n",
    "\n",
    "# Set environment variables\n",
    "import os\n",
    "\n",
    "os.environ[\"SCAL_TYPE\"] = \"real\"\n",
    "os.environ[\"PRECISION\"] = \"double\"\n",
    "os.environ[\"MY_NUMBA_TARGET\"] = \"numba\"\n",
    "\n",
    "# Add cle_fun to PYTHON_PATH\n",
    "import sys\n",
    "sys.path.append(\"../../clonscal\")"
   ]
  },
  {
   "cell_type": "code",
   "execution_count": 7,
   "metadata": {},
   "outputs": [],
   "source": [
    "from simulation.cl_simulation import ComplexLangevinSimulation\n",
    "from simulation.config import Config\n",
    "\n",
    "config = Config(dims=[100], dt = 0.1, mass_real = -1, interaction=0.4)\n",
    "sim = ComplexLangevinSimulation(config)"
   ]
  },
  {
   "cell_type": "code",
   "execution_count": 8,
   "metadata": {},
   "outputs": [],
   "source": [
    "from src.utils import KernelBridge\n",
    "from src.utils import noise_kernel, evolve_kernel, mexican_hat_kernel_real\n",
    "\n",
    "kernel_br = KernelBridge(sim, [noise_kernel, evolve_kernel, mexican_hat_kernel_real], const_param={})\n",
    "n_steps = int(1e4)\n",
    "phi = np.empty(n_steps)\n",
    "\n",
    "args = kernel_br.get_current_params()\n",
    "for k in range(n_steps):\n",
    "    sim.update_noise(noise_kernel, *args[noise_kernel].values())\n",
    "    sim.update_drift(mexican_hat_kernel_real, *args[mexican_hat_kernel_real].values())\n",
    "    args = kernel_br.get_current_params()\n",
    "    sim.update_field(evolve_kernel, *args[evolve_kernel].values())\n",
    "    sim.swap()\n",
    "    phi[k] = sim.phi1[0] \n"
   ]
  },
  {
   "cell_type": "code",
   "execution_count": 9,
   "metadata": {},
   "outputs": [],
   "source": [
    "from typing import Dict, Any\n",
    "const_param: Dict[str, Any] = {}\n",
    "const_param['constant_param_1'] = 42\n"
   ]
  },
  {
   "cell_type": "code",
   "execution_count": null,
   "metadata": {},
   "outputs": [],
   "source": []
  },
  {
   "cell_type": "code",
   "execution_count": 10,
   "metadata": {},
   "outputs": [
    {
     "data": {
      "text/plain": [
       "(array([  1.,   1.,   1.,   0.,   1.,   2.,   3.,   7.,   8.,  14.,  25.,\n",
       "         29.,  68.,  97., 113., 118., 157., 207., 213., 250., 298., 290.,\n",
       "        358., 349., 370., 372., 342., 309., 246., 269., 224., 221., 162.,\n",
       "        160., 127.,  88., 103.,  63.,  61.,  60.,  49.,  37.,  24.,  21.,\n",
       "         22.,  16.,  11.,  18.,  13.,   9.,   5.,  12.,   7.,   6.,   8.,\n",
       "         10.,  12.,   8.,  16.,  14.,   9.,  10.,  20.,  20.,  24.,  29.,\n",
       "         49.,  43.,  56.,  67.,  73.,  98., 104., 132., 117., 149., 173.,\n",
       "        182., 223., 214., 228., 232., 219., 230., 200., 178., 149., 159.,\n",
       "        124.,  93.,  91.,  73.,  43.,  36.,  15.,  11.,   9.,  11.,   0.,\n",
       "          2.]),\n",
       " array([-6.87162942e+00, -6.74191923e+00, -6.61220904e+00, -6.48249884e+00,\n",
       "        -6.35278865e+00, -6.22307846e+00, -6.09336827e+00, -5.96365808e+00,\n",
       "        -5.83394788e+00, -5.70423769e+00, -5.57452750e+00, -5.44481731e+00,\n",
       "        -5.31510712e+00, -5.18539693e+00, -5.05568673e+00, -4.92597654e+00,\n",
       "        -4.79626635e+00, -4.66655616e+00, -4.53684597e+00, -4.40713577e+00,\n",
       "        -4.27742558e+00, -4.14771539e+00, -4.01800520e+00, -3.88829501e+00,\n",
       "        -3.75858482e+00, -3.62887462e+00, -3.49916443e+00, -3.36945424e+00,\n",
       "        -3.23974405e+00, -3.11003386e+00, -2.98032366e+00, -2.85061347e+00,\n",
       "        -2.72090328e+00, -2.59119309e+00, -2.46148290e+00, -2.33177271e+00,\n",
       "        -2.20206251e+00, -2.07235232e+00, -1.94264213e+00, -1.81293194e+00,\n",
       "        -1.68322175e+00, -1.55351155e+00, -1.42380136e+00, -1.29409117e+00,\n",
       "        -1.16438098e+00, -1.03467079e+00, -9.04960595e-01, -7.75250403e-01,\n",
       "        -6.45540211e-01, -5.15830019e-01, -3.86119827e-01, -2.56409636e-01,\n",
       "        -1.26699444e-01,  3.01074805e-03,  1.32720940e-01,  2.62431132e-01,\n",
       "         3.92141324e-01,  5.21851515e-01,  6.51561707e-01,  7.81271899e-01,\n",
       "         9.10982091e-01,  1.04069228e+00,  1.17040247e+00,  1.30011267e+00,\n",
       "         1.42982286e+00,  1.55953305e+00,  1.68924324e+00,  1.81895343e+00,\n",
       "         1.94866363e+00,  2.07837382e+00,  2.20808401e+00,  2.33779420e+00,\n",
       "         2.46750439e+00,  2.59721458e+00,  2.72692478e+00,  2.85663497e+00,\n",
       "         2.98634516e+00,  3.11605535e+00,  3.24576554e+00,  3.37547574e+00,\n",
       "         3.50518593e+00,  3.63489612e+00,  3.76460631e+00,  3.89431650e+00,\n",
       "         4.02402670e+00,  4.15373689e+00,  4.28344708e+00,  4.41315727e+00,\n",
       "         4.54286746e+00,  4.67257765e+00,  4.80228785e+00,  4.93199804e+00,\n",
       "         5.06170823e+00,  5.19141842e+00,  5.32112861e+00,  5.45083881e+00,\n",
       "         5.58054900e+00,  5.71025919e+00,  5.83996938e+00,  5.96967957e+00,\n",
       "         6.09938976e+00]),\n",
       " <BarContainer object of 100 artists>)"
      ]
     },
     "execution_count": 10,
     "metadata": {},
     "output_type": "execute_result"
    },
    {
     "data": {
      "image/png": "[encoded data removed]",
      "text/plain": [
       "<Figure size 640x480 with 1 Axes>"
      ]
     },
     "metadata": {},
     "output_type": "display_data"
    }
   ],
   "source": [
    "plt.hist(phi, bins=100)"
   ]
  }
 ],
 "metadata": {
  "kernelspec": {
   "display_name": "cle",
   "language": "python",
   "name": "python3"
  },
  "language_info": {
   "codemirror_mode": {
    "name": "ipython",
    "version": 3
   },
   "file_extension": ".py",
   "mimetype": "text/x-python",
   "name": "python",
   "nbconvert_exporter": "python",
   "pygments_lexer": "ipython3",
   "version": "3.10.15"
  }
 },
 "nbformat": 4,
 "nbformat_minor": 2
}
