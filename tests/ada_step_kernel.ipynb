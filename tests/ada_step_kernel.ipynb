{
 "cells": [
  {
   "cell_type": "code",
   "execution_count": 1,
   "metadata": {},
   "outputs": [],
   "source": [
    "import numpy as np\n",
    "import matplotlib.pyplot as plt\n",
    "\n",
    "# Set environment variables\n",
    "import os\n",
    "\n",
    "os.environ[\"SCAL_TYPE\"] = \"complex\"\n",
    "os.environ[\"PRECISION\"] = \"double\"\n",
    "os.environ[\"MY_NUMBA_TARGET\"] = \"cuda\"\n",
    " \n",
    "# Add cle_fun to PYTHON_PATH\n",
    "import sys\n",
    "sys.path.append(\"../../clonscal\")"
   ]
  },
  {
   "cell_type": "code",
   "execution_count": 2,
   "metadata": {},
   "outputs": [
    {
     "name": "stdout",
     "output_type": "stream",
     "text": [
      "Using double precision\n",
      "Using C^1\n",
      "Using CUDA\n"
     ]
    },
    {
     "name": "stderr",
     "output_type": "stream",
     "text": [
      "/home/fhelmberger/miniconda3/envs/cle_cuda/lib/python3.10/site-packages/llvmlite/llvmpy/__init__.py:3: UserWarning: The module `llvmlite.llvmpy` is deprecated and will be removed in the future.\n",
      "  warnings.warn(\n",
      "/home/fhelmberger/miniconda3/envs/cle_cuda/lib/python3.10/site-packages/llvmlite/llvmpy/core.py:8: UserWarning: The module `llvmlite.llvmpy.core` is deprecated and will be removed in the future. Equivalent functionality is provided by `llvmlite.ir`.\n",
      "  warnings.warn(\n",
      "/home/fhelmberger/miniconda3/envs/cle_cuda/lib/python3.10/site-packages/llvmlite/llvmpy/passes.py:17: UserWarning: The module `llvmlite.llvmpy.passes` is deprecated and will be removed in the future. If you are using this code, it should be inlined into your own project.\n",
      "  warnings.warn(\n"
     ]
    }
   ],
   "source": [
    "from simulation.config import Config\n",
    "from simulation.cl_simulation import ComplexLangevinSimulation\n",
    "\n",
    "config = Config(dims = [1], trajs = int(1e7), mass_real = 1j)\n",
    "sim = ComplexLangevinSimulation(config)"
   ]
  },
  {
   "cell_type": "code",
   "execution_count": null,
   "metadata": {},
   "outputs": [
    {
     "name": "stdout",
     "output_type": "stream",
     "text": [
      "numba mode:\n",
      "39.8 ms ± 743 µs per loop (mean ± std. dev. of 7 runs, 10 loops each)\n"
     ]
    }
   ],
   "source": [
    "from src.numba_target import use_cuda\n",
    "\n",
    "if not use_cuda:\n",
    "    sim.set_apative_stepsize()\n",
    "    print(os.environ[\"MY_NUMBA_TARGET\"]+\" mode:\")\n",
    "    %timeit sim.set_apative_stepsize()\n",
    "else:\n",
    "    print(os.environ[\"MY_NUMBA_TARGET\"]+\" mode:\")\n",
    "    sim.set_apative_stepsize()\n",
    "    %timeit sim.set_apative_stepsize()"
   ]
  },
  {
   "cell_type": "code",
   "execution_count": 3,
   "metadata": {},
   "outputs": [
    {
     "name": "stdout",
     "output_type": "stream",
     "text": [
      "cuda mode:\n",
      "1.69 ms ± 523 ns per loop (mean ± std. dev. of 7 runs, 1,000 loops each)\n"
     ]
    }
   ],
   "source": [
    "from src.numba_target import use_cuda\n",
    "\n",
    "if not use_cuda:\n",
    "    sim.set_apative_stepsize()\n",
    "    print(os.environ[\"MY_NUMBA_TARGET\"]+\" mode:\")\n",
    "    %timeit sim.set_apative_stepsize()\n",
    "else:\n",
    "    print(os.environ[\"MY_NUMBA_TARGET\"]+\" mode:\")\n",
    "    sim.set_apative_stepsize()\n",
    "    %timeit sim.set_apative_stepsize()"
   ]
  }
 ],
 "metadata": {
  "kernelspec": {
   "display_name": "cle_cuda",
   "language": "python",
   "name": "python3"
  },
  "language_info": {
   "codemirror_mode": {
    "name": "ipython",
    "version": 3
   },
   "file_extension": ".py",
   "mimetype": "text/x-python",
   "name": "python",
   "nbconvert_exporter": "python",
   "pygments_lexer": "ipython3",
   "version": "3.10.12"
  }
 },
 "nbformat": 4,
 "nbformat_minor": 2
}
