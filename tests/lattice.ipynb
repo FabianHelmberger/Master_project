{
 "cells": [
  {
   "cell_type": "code",
   "execution_count": 1,
   "metadata": {},
   "outputs": [
    {
     "name": "stdout",
     "output_type": "stream",
     "text": [
      "Using single precision\n",
      "Using C^1\n",
      "Using Numba\n"
     ]
    }
   ],
   "source": [
    "import numpy as np\n",
    "\n",
    "# Set environment variables\n",
    "import os\n",
    "\n",
    "os.environ[\"SCAL_TYPE\"] = \"complex\"\n",
    "os.environ[\"PRECISION\"] = \"single\"\n",
    "os.environ[\"MY_NUMBA_TARGET\"] = \"numba\"\n",
    "\n",
    "# Add cle_fun to PYTHON_PATH\n",
    "import sys\n",
    "sys.path.append(\"../../clonscal\")\n",
    "\n",
    "import src.scal as scal\n",
    "from simulation.config import Config\n",
    "from simulation.lattice import Lattice"
   ]
  },
  {
   "cell_type": "code",
   "execution_count": 2,
   "metadata": {},
   "outputs": [],
   "source": [
    "conf = Config(dims = [3, 3])\n",
    "latt = Lattice(conf)"
   ]
  },
  {
   "cell_type": "code",
   "execution_count": 3,
   "metadata": {},
   "outputs": [
    {
     "name": "stdout",
     "output_type": "stream",
     "text": [
      "shifted index 0 in direction +0: 3\n",
      "shifted index 0 in direction -0: 6\n",
      "shifted index 0 in direction +1: 1\n",
      "shifted index 0 in direction -1: 2\n"
     ]
    }
   ],
   "source": [
    "# shift the index 0 into direction 0 by one\n",
    "idx = 0\n",
    "\n",
    "dir = 0\n",
    "print(f\"shifted index {idx} in direction +{dir}: {latt.shift(idx, dir, +1)}\")\n",
    "print(f\"shifted index {idx} in direction -{dir}: {latt.shift(idx, dir, -1)}\")\n",
    "\n",
    "dir = 1\n",
    "print(f\"shifted index {idx} in direction +{dir}: {latt.shift(idx, dir, +1)}\")\n",
    "print(f\"shifted index {idx} in direction -{dir}: {latt.shift(idx, dir, -1)}\")\n",
    "\n",
    "# ^\n",
    "# | 2   5   8\n",
    "# d\n",
    "# i\n",
    "# r 1   4   7\n",
    "# 1 \n",
    "# | \n",
    "#   0   3   6\n",
    "#   -----dir0----->"
   ]
  },
  {
   "cell_type": "code",
   "execution_count": 8,
   "metadata": {},
   "outputs": [
    {
     "name": "stdout",
     "output_type": "stream",
     "text": [
      "pos (1, 1) has index 4\n",
      "pos (2, 1) has index 7\n",
      "pos (1, 0) has index 3\n",
      "pos (0, 1) has index 1\n",
      "pos (1, 2) has index 5\n"
     ]
    }
   ],
   "source": [
    "# in form (time, space):\n",
    "# ^\n",
    "# | (0, 2)  (1, 2)  (2, 2)\n",
    "# d\n",
    "# i\n",
    "# r (0, 1)  (1, 1)  (2, 1)\n",
    "# 1 \n",
    "# | \n",
    "#   (0, 0)  (1, 0)  (2, 0)\n",
    "#   -----dir0----->\n",
    "\n",
    "pos = (1,1)\n",
    "print(f\"pos {pos} has index {latt.get_index(pos)}\")\n",
    "\n",
    "pos = (2,1)\n",
    "print(f\"pos {pos} has index {latt.get_index(pos)}\")\n",
    "\n",
    "pos = (1,0)\n",
    "print(f\"pos {pos} has index {latt.get_index(pos)}\")\n",
    "\n",
    "pos = (0,1)\n",
    "print(f\"pos {pos} has index {latt.get_index(pos)}\")\n",
    "\n",
    "pos = (1,2)\n",
    "print(f\"pos {pos} has index {latt.get_index(pos)}\")\n"
   ]
  },
  {
   "cell_type": "code",
   "execution_count": 17,
   "metadata": {},
   "outputs": [
    {
     "name": "stdout",
     "output_type": "stream",
     "text": [
      "0 2\n"
     ]
    }
   ],
   "source": [
    "# for periodic thermal bosonic bc\n",
    "idx = 0\n",
    "t_slice = idx // latt.adims[1]\n",
    "t_slice_shift = (t_slice - 1) % (latt.dims[0])\n",
    "print(t_slice, t_slice_shift)"
   ]
  }
 ],
 "metadata": {
  "kernelspec": {
   "display_name": "cle",
   "language": "python",
   "name": "python3"
  },
  "language_info": {
   "codemirror_mode": {
    "name": "ipython",
    "version": 3
   },
   "file_extension": ".py",
   "mimetype": "text/x-python",
   "name": "python",
   "nbconvert_exporter": "python",
   "pygments_lexer": "ipython3",
   "version": "3.10.15"
  }
 },
 "nbformat": 4,
 "nbformat_minor": 2
}
