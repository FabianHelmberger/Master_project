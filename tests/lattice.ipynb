{
 "cells": [
  {
   "cell_type": "code",
   "execution_count": 2,
   "metadata": {},
   "outputs": [
    {
     "name": "stdout",
     "output_type": "stream",
     "text": [
      "Using single precision\n",
      "Using C^1\n",
      "Using Python\n"
     ]
    }
   ],
   "source": [
    "import numpy as np\n",
    "\n",
    "# Set environment variables\n",
    "import os\n",
    "\n",
    "os.environ[\"SCAL_TYPE\"] = \"complex\"\n",
    "os.environ[\"PRECISION\"] = \"single\"\n",
    "os.environ[\"MY_NUMBA_TARGET\"] = \"python\"\n",
    "\n",
    "# Add cle_fun to PYTHON_PATH\n",
    "import sys\n",
    "sys.path.append(\"../../clonscal\")\n",
    "\n",
    "import src.scal as scal\n",
    "import src.lattice as l\n"
   ]
  },
  {
   "cell_type": "code",
   "execution_count": 16,
   "metadata": {},
   "outputs": [],
   "source": [
    "dims = np.array([3, 3], dtype=np.int64)\n",
    "n_dims = len(dims)\n",
    "adims = np.append(np.cumprod(dims[::-1])[::-1], 1)"
   ]
  },
  {
   "cell_type": "code",
   "execution_count": null,
   "metadata": {},
   "outputs": [
    {
     "name": "stdout",
     "output_type": "stream",
     "text": [
      "shifted index 4 in direction +0: 7\n",
      "shifted index 4 in direction -0: 1\n",
      "shifted index 4 in direction +1: 5\n",
      "shifted index 4 in direction -1: 3\n"
     ]
    }
   ],
   "source": [
    "# shift the index 0 into direction 0 by one\n",
    "idx = 4\n",
    "\n",
    "dir = 0\n",
    "print(f\"shifted index {idx} in direction +{dir}: {l.shift(idx, dir, +1, dims, adims)}\")\n",
    "print(f\"shifted index {idx} in direction -{dir}: {l.shift(idx, dir, -1, dims, adims)}\")\n",
    "\n",
    "dir = 1\n",
    "print(f\"shifted index {idx} in direction +{dir}: {l.shift(idx, dir, +1, dims, adims)}\")\n",
    "print(f\"shifted index {idx} in direction -{dir}: {l.shift(idx, dir, -1, dims, adims)}\")\n",
    "\n",
    "# ^\n",
    "# | 2   5   8\n",
    "# d\n",
    "# i\n",
    "# r 1   4   7\n",
    "# 1 \n",
    "# | \n",
    "#   0   3   6\n",
    "#   -----dir0----->"
   ]
  },
  {
   "cell_type": "code",
   "execution_count": 26,
   "metadata": {},
   "outputs": [
    {
     "name": "stdout",
     "output_type": "stream",
     "text": [
      "pos (1, 1) has index 4\n",
      "pos (2, 1) has index 7\n",
      "pos (1, 0) has index 3\n",
      "pos (0, 1) has index 1\n",
      "pos (1, 2) has index 5\n"
     ]
    }
   ],
   "source": [
    "# in form (time, space):\n",
    "# ^\n",
    "# | (0, 2)  (1, 2)  (2, 2)\n",
    "# d\n",
    "# i\n",
    "# r (0, 1)  (1, 1)  (2, 1)\n",
    "# 1 \n",
    "# | \n",
    "#   (0, 0)  (1, 0)  (2, 0)\n",
    "#   -----dir0----->\n",
    "\n",
    "pos = (1,1)\n",
    "print(f\"pos {pos} has index {l.get_index(pos, dims, adims)}\")\n",
    "\n",
    "pos = (2,1)\n",
    "print(f\"pos {pos} has index {l.get_index(pos, dims, adims)}\")\n",
    "\n",
    "pos = (1,0)\n",
    "print(f\"pos {pos} has index {l.get_index(pos, dims, adims)}\")\n",
    "\n",
    "pos = (0,1)\n",
    "print(f\"pos {pos} has index {l.get_index(pos, dims, adims)}\")\n",
    "\n",
    "pos = (1,2)\n",
    "print(f\"pos {pos} has index {l.get_index(pos, dims, adims)}\")"
   ]
  }
 ],
 "metadata": {
  "kernelspec": {
   "display_name": "cle",
   "language": "python",
   "name": "python3"
  },
  "language_info": {
   "codemirror_mode": {
    "name": "ipython",
    "version": 3
   },
   "file_extension": ".py",
   "mimetype": "text/x-python",
   "name": "python",
   "nbconvert_exporter": "python",
   "pygments_lexer": "ipython3",
   "version": "3.10.15"
  }
 },
 "nbformat": 4,
 "nbformat_minor": 2
}
