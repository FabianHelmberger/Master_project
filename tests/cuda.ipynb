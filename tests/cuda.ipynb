{
 "cells": [
  {
   "cell_type": "code",
   "execution_count": 1,
   "metadata": {},
   "outputs": [],
   "source": [
    "import numpy as np\n",
    "import matplotlib.pyplot as plt\n",
    "\n",
    "# Set environment variables\n",
    "import os\n",
    "\n",
    "os.environ[\"SCAL_TYPE\"] = \"complex\"\n",
    "os.environ[\"PRECISION\"] = \"double\"\n",
    "os.environ[\"MY_NUMBA_TARGET\"] = \"cuda\"\n",
    " \n",
    "# Add cle_fun to PYTHON_PATH\n",
    "import sys\n",
    "sys.path.append(\"../../clonscal\")"
   ]
  },
  {
   "cell_type": "code",
   "execution_count": 2,
   "metadata": {},
   "outputs": [
    {
     "name": "stdout",
     "output_type": "stream",
     "text": [
      "Using CUDA\n"
     ]
    }
   ],
   "source": [
    "import numba, math # type: ignore \n",
    "from numba import cuda # type: ignore \n",
    "import numpy as np\n",
    "from numba import float32\n",
    "from src.numba_target import myjit\n",
    "\n",
    "lattice_size = 2**20\n",
    "threadsperblock = 256\n",
    "blockspergrid = math.ceil(lattice_size / threadsperblock)\n",
    "\n",
    "phi0 = cuda.to_device(np.empty(lattice_size, dtype = np.float32))\n",
    "phi1 = cuda.to_device(np.empty(lattice_size, dtype = np.float32))\n",
    "eta = cuda.to_device(np.empty(lattice_size, dtype = np.float32))\n",
    "dS = cuda.to_device(np.empty(lattice_size, dtype = np.float32))\n",
    "dS_norm = cuda.to_device(np.empty(lattice_size, dtype = np.float32))\n",
    "mass_real = np.float64(1)\n",
    "interaction = np.float64(1)\n",
    "dt_ada = np.float64(0.1)"
   ]
  },
  {
   "cell_type": "code",
   "execution_count": 1,
   "metadata": {},
   "outputs": [],
   "source": [
    "import numba, math # type: ignore \n",
    "from numba import cuda # type: ignore \n",
    "import numpy as np\n",
    "from numba import float32\n",
    "\n",
    "lattice_size = 2**20\n",
    "threadsperblock = 256\n",
    "blockspergrid = math.ceil(lattice_size / threadsperblock)\n",
    "\n",
    "phi0 = cuda.to_device(np.empty(lattice_size, dtype = np.float32))\n",
    "phi1 = cuda.to_device(np.empty(lattice_size, dtype = np.float32))\n",
    "eta = cuda.to_device(np.empty(lattice_size, dtype = np.float32))\n",
    "dS = cuda.to_device(np.empty(lattice_size, dtype = np.float32))\n",
    "dS_norm = cuda.to_device(np.empty(lattice_size, dtype = np.float32))\n",
    "mass_real = np.float64(1)\n",
    "interaction = np.float64(1)\n",
    "dt_ada = np.float64(0.1)\n",
    "\n",
    "@numba.jit(nogil=True, fastmath=True)\n",
    "def evolve_kernel(idx, phi0, phi1, dS, eta, dt_ada):\n",
    "    dt_sqrt = math.sqrt(dt_ada)\n",
    "    etaterm = eta[idx] * dt_sqrt\n",
    "    update = etaterm - dt_ada* dS[idx]\n",
    "    phi1[idx] = phi0[idx] + update\n",
    "\n",
    "@cuda.jit\n",
    "def evolve_kernel_compiled(iter_max, phi0, phi1, dS, eta, dt_ada):\n",
    "    xi = cuda.grid(1)\n",
    "    if xi < iter_max:\n",
    "        evolve_kernel(xi, phi0, phi1, dS, eta, dt_ada)\n",
    "\n",
    "evolve_kernel_compiled[blockspergrid, threadsperblock](lattice_size, phi0, phi1, dS, eta, dt_ada)\n",
    "cuda.synchronize()\n",
    "evolve_kernel_compiled[blockspergrid, threadsperblock](lattice_size, phi0, phi1, dS, eta, dt_ada)\n",
    "cuda.synchronize()\n",
    "evolve_kernel_compiled[blockspergrid, threadsperblock](lattice_size, phi0, phi1, dS, eta, dt_ada)\n",
    "cuda.synchronize()\n",
    "evolve_kernel_compiled[blockspergrid, threadsperblock](lattice_size, phi0, phi1, dS, eta, dt_ada)\n",
    "cuda.synchronize()\n",
    "evolve_kernel_compiled[blockspergrid, threadsperblock](lattice_size, phi0, phi1, dS, eta, dt_ada)\n",
    "cuda.synchronize()\n"
   ]
  }
 ],
 "metadata": {
  "kernelspec": {
   "display_name": "cle_cuda",
   "language": "python",
   "name": "python3"
  },
  "language_info": {
   "codemirror_mode": {
    "name": "ipython",
    "version": 3
   },
   "file_extension": ".py",
   "mimetype": "text/x-python",
   "name": "python",
   "nbconvert_exporter": "python",
   "pygments_lexer": "ipython3",
   "version": "3.10.15"
  }
 },
 "nbformat": 4,
 "nbformat_minor": 2
}
